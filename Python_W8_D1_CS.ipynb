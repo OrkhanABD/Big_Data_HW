{
 "cells": [
  {
   "cell_type": "markdown",
   "id": "a3f0d43e-5732-4c77-a73d-a2cb752d0abb",
   "metadata": {},
   "source": [
    "## Description: You are asked to scrape the reddit site. Take any subtopic of reddit and scrape 4 main concepts from the site:\n",
    "1) Header of the each posts\n",
    "2) Votes of the each posts\n",
    "3) Dates of the each posts\n",
    "4) Links of the each posts\n",
    "Finally, create a csv file which contains all mentioned columns. Your result should be nearly same as below."
   ]
  },
  {
   "cell_type": "code",
   "execution_count": 2,
   "id": "704ac689-326a-4c59-afcc-cdf6ea5f8922",
   "metadata": {},
   "outputs": [],
   "source": [
    "import requests\n",
    "from bs4 import BeautifulSoup\n",
    "import pandas as pd"
   ]
  },
  {
   "cell_type": "code",
   "execution_count": 5,
   "id": "d81718da-369f-47e8-84ad-bc38894a82bb",
   "metadata": {},
   "outputs": [
    {
     "data": {
      "text/plain": [
       "<Response [200]>"
      ]
     },
     "execution_count": 5,
     "metadata": {},
     "output_type": "execute_result"
    }
   ],
   "source": [
    "url = 'https://www.reddit.com/search/?q=breaking+bad&type=link&cId=993de56b-1b09-473a-8173-8db329dbf8c3&iId=fd83b411-2a19-457e-9fb7-cc4272de123d'\n",
    "html = requests.get(url).text\n",
    "response"
   ]
  },
  {
   "cell_type": "code",
   "execution_count": 7,
   "id": "c175e8d8-1ce3-4781-a678-d2f47adcc5bc",
   "metadata": {},
   "outputs": [],
   "source": [
    "soup=BeautifulSoup(html, 'html.parser')"
   ]
  },
  {
   "cell_type": "code",
   "execution_count": 12,
   "id": "00fd12bf-17b0-4063-affb-eb532fbbda62",
   "metadata": {},
   "outputs": [
    {
     "data": {
      "text/plain": [
       "'Breaking Bad tier list'"
      ]
     },
     "execution_count": 12,
     "metadata": {},
     "output_type": "execute_result"
    }
   ],
   "source": [
    "soup.find_all(name='a',attrs={\"data-testid\":\"post-title\"})[0].text.strip()"
   ]
  },
  {
   "cell_type": "markdown",
   "id": "b494bbed-4f6d-49b6-88e1-ffe08b6584ac",
   "metadata": {},
   "source": [
    "# Headers"
   ]
  },
  {
   "cell_type": "code",
   "execution_count": 32,
   "id": "fc3e485d-fb03-4662-a811-31947bf48c92",
   "metadata": {},
   "outputs": [],
   "source": [
    "headers=[]\n",
    "for i in soup.find_all(name='a',attrs={\"data-testid\":\"post-title\"}):\n",
    "    headers.append(i.text.strip())"
   ]
  },
  {
   "cell_type": "code",
   "execution_count": 33,
   "id": "f7904884-bb04-45a9-abfd-4d354c9e3244",
   "metadata": {},
   "outputs": [
    {
     "data": {
      "text/plain": [
       "['Breaking Bad tier list',\n",
       " 'Why is Breaking Bad so good??',\n",
       " 'Breaking Bad: Girls Edition',\n",
       " 'Am I the only one who thinks Breaking Bad is overrated?',\n",
       " 'Recasting Breaking Bad in 2023',\n",
       " \"Unpopular opinion: Breaking Bad's ending is not good\",\n",
       " 'Breaking Bad in a minute',\n",
       " \"What's the most unrealistic part of Breaking Bad?\",\n",
       " 'I finally watched Breaking Bad. It was insanely boring and I don’t understand why it’s regarded as a “perfect show” by so many.',\n",
       " 'Breaking Bad is a comfort show for me until somewhere in Season 4.',\n",
       " 'I’m shocked at how Breaking Bad only takes place for 2 years',\n",
       " 'Was the term “Breaking Bad” invented by the show or did it have colloquial use before.',\n",
       " '‘Breaking Bad’ actor Dean Norris at the DNC',\n",
       " 'The fundamental problem with Breaking Bad',\n",
       " 'This email from Anthony Hopkins to Bryan Cranston after Hopkins had just finished watching Breaking Bad.',\n",
       " 'How young is \"too young\" to watch Breaking Bad?',\n",
       " 'AITAH for considering breaking up with my fiancée because she talked bad about my sister?',\n",
       " 'BetterCallSaul vs BreakingBad',\n",
       " 'Breaking Bad cast reunites at the 2024 SAG Awards',\n",
       " 'Do you think the Breaking Bad universe is really over?',\n",
       " \"Colin Farrell Says He’ll 'Catch Up' on 'The Sopranos,' 'Breaking Bad' and 'The Wire' 'When I Grow Up'\",\n",
       " 'Let me hear your alternate endings to breaking bad',\n",
       " 'Aaron Paul on the last day of filming Breaking Bad',\n",
       " 'Why did the makers choose New Mexico for Breaking Bad ?',\n",
       " 'Last day on set of Breaking Bad (2013)']"
      ]
     },
     "execution_count": 33,
     "metadata": {},
     "output_type": "execute_result"
    }
   ],
   "source": [
    "headers"
   ]
  },
  {
   "cell_type": "markdown",
   "id": "ca963799-dd94-4f27-987b-41ccb6f9d6b3",
   "metadata": {},
   "source": [
    "# Links"
   ]
  },
  {
   "cell_type": "code",
   "execution_count": 34,
   "id": "47fcea12-4734-4b06-8bed-8d92a821d427",
   "metadata": {},
   "outputs": [
    {
     "data": {
      "text/plain": [
       "'/r/breakingbad/comments/157zmq5/breaking_bad_tier_list/'"
      ]
     },
     "execution_count": 34,
     "metadata": {},
     "output_type": "execute_result"
    }
   ],
   "source": [
    "soup.find_all(name='a',attrs={\"data-testid\":\"post-title\"})[0].get('href')"
   ]
  },
  {
   "cell_type": "code",
   "execution_count": 35,
   "id": "8020e531-b036-4127-9167-01ca59012c86",
   "metadata": {},
   "outputs": [],
   "source": [
    "links=[]\n",
    "base_url='https://www.reddit.com'\n",
    "for i in soup.find_all(name='a',attrs={\"data-testid\":\"post-title\"}):\n",
    "    links.append(base_url+i.get('href'))"
   ]
  },
  {
   "cell_type": "code",
   "execution_count": 36,
   "id": "c33e8e88-6da6-4443-b82e-878333bc2d1f",
   "metadata": {},
   "outputs": [
    {
     "data": {
      "text/plain": [
       "['https://www.reddit.com/r/breakingbad/comments/157zmq5/breaking_bad_tier_list/',\n",
       " 'https://www.reddit.com/r/breakingbad/comments/1clvcht/why_is_breaking_bad_so_good/',\n",
       " 'https://www.reddit.com/r/okbuddychicanery/comments/wkxnyu/breaking_bad_girls_edition/',\n",
       " 'https://www.reddit.com/r/TvShows/comments/1b699ig/am_i_the_only_one_who_thinks_breaking_bad_is/',\n",
       " 'https://www.reddit.com/r/okbuddychicanery/comments/1b2n100/recasting_breaking_bad_in_2023/',\n",
       " 'https://www.reddit.com/r/breakingbad/comments/195g0w5/unpopular_opinion_breaking_bads_ending_is_not_good/',\n",
       " 'https://www.reddit.com/r/funny/comments/1dpqsgq/breaking_bad_in_a_minute/',\n",
       " 'https://www.reddit.com/r/breakingbad/comments/171t35j/whats_the_most_unrealistic_part_of_breaking_bad/',\n",
       " 'https://www.reddit.com/r/unpopularopinion/comments/vmvxmy/i_finally_watched_breaking_bad_it_was_insanely/',\n",
       " 'https://www.reddit.com/r/breakingbad/comments/181bqcj/breaking_bad_is_a_comfort_show_for_me_until/',\n",
       " 'https://www.reddit.com/r/breakingbad/comments/16cxd6t/im_shocked_at_how_breaking_bad_only_takes_place/',\n",
       " 'https://www.reddit.com/r/breakingbad/comments/11s0544/was_the_term_breaking_bad_invented_by_the_show_or/',\n",
       " 'https://www.reddit.com/r/pics/comments/1ez5lb9/breaking_bad_actor_dean_norris_at_the_dnc/',\n",
       " 'https://www.reddit.com/r/breakingbad/comments/1579k9d/the_fundamental_problem_with_breaking_bad/',\n",
       " 'https://www.reddit.com/r/MadeMeSmile/comments/1di4yo9/this_email_from_anthony_hopkins_to_bryan_cranston/',\n",
       " 'https://www.reddit.com/r/breakingbad/comments/160yc42/how_young_is_too_young_to_watch_breaking_bad/',\n",
       " 'https://www.reddit.com/r/AITAH/comments/1f50d1v/aitah_for_considering_breaking_up_with_my_fiancée/',\n",
       " 'https://www.reddit.com/r/betterCallSaul/comments/18r1pe3/bettercallsaul_vs_breakingbad/',\n",
       " 'https://www.reddit.com/r/pics/comments/1b31e2s/breaking_bad_cast_reunites_at_the_2024_sag_awards/',\n",
       " 'https://www.reddit.com/r/breakingbad/comments/162u7sa/do_you_think_the_breaking_bad_universe_is_really/',\n",
       " 'https://www.reddit.com/r/television/comments/1fkb7jw/colin_farrell_says_hell_catch_up_on_the_sopranos/',\n",
       " 'https://www.reddit.com/r/breakingbad/comments/18cg0g8/let_me_hear_your_alternate_endings_to_breaking_bad/',\n",
       " 'https://www.reddit.com/r/pics/comments/1bifwf6/aaron_paul_on_the_last_day_of_filming_breaking_bad/',\n",
       " 'https://www.reddit.com/r/breakingbad/comments/1630qty/why_did_the_makers_choose_new_mexico_for_breaking/',\n",
       " 'https://www.reddit.com/r/pics/comments/1con127/last_day_on_set_of_breaking_bad_2013/']"
      ]
     },
     "execution_count": 36,
     "metadata": {},
     "output_type": "execute_result"
    }
   ],
   "source": [
    "links"
   ]
  },
  {
   "cell_type": "markdown",
   "id": "7120b23c-eb2b-44e0-b200-b5ae527ade89",
   "metadata": {},
   "source": [
    "# Votes"
   ]
  },
  {
   "cell_type": "code",
   "execution_count": 37,
   "id": "bce3dfbf-c97b-4f76-9dc2-16bffc24c667",
   "metadata": {},
   "outputs": [
    {
     "data": {
      "text/plain": [
       "'1255'"
      ]
     },
     "execution_count": 37,
     "metadata": {},
     "output_type": "execute_result"
    }
   ],
   "source": [
    "soup.find_all(name='div',attrs={\"text-neutral-content-weak text-12\"})[0].find('faceplate-number').get('number')"
   ]
  },
  {
   "cell_type": "code",
   "execution_count": 38,
   "id": "6062ec2b-617a-4e40-8c3c-40056c42cc83",
   "metadata": {},
   "outputs": [],
   "source": [
    "votes=[]\n",
    "\n",
    "for i in soup.find_all(name='div',attrs={\"text-neutral-content-weak text-12\"}):\n",
    "    votes.append(i.find('faceplate-number').get('number'))"
   ]
  },
  {
   "cell_type": "code",
   "execution_count": 39,
   "id": "97ddf976-07c7-48fb-9fa5-18b10c0c5157",
   "metadata": {},
   "outputs": [
    {
     "data": {
      "text/plain": [
       "['1255',\n",
       " '331',\n",
       " '39628',\n",
       " '230',\n",
       " '3620',\n",
       " '0',\n",
       " '12612',\n",
       " '265',\n",
       " '4363',\n",
       " '368',\n",
       " '801',\n",
       " '306',\n",
       " '42798',\n",
       " '207',\n",
       " '70675',\n",
       " '788',\n",
       " '4107',\n",
       " '184',\n",
       " '39901',\n",
       " '368',\n",
       " '4855',\n",
       " '112',\n",
       " '50672',\n",
       " '360',\n",
       " '25252']"
      ]
     },
     "execution_count": 39,
     "metadata": {},
     "output_type": "execute_result"
    }
   ],
   "source": [
    "votes"
   ]
  },
  {
   "cell_type": "markdown",
   "id": "4f45d862-3370-40b1-a6eb-54a8dcd5184a",
   "metadata": {},
   "source": [
    "# Dates"
   ]
  },
  {
   "cell_type": "code",
   "execution_count": 55,
   "id": "9fa4048f-936d-4f02-b157-949867e3973c",
   "metadata": {},
   "outputs": [
    {
     "data": {
      "text/plain": [
       "'2023-07-24T04:03:10.826000+0000'"
      ]
     },
     "execution_count": 55,
     "metadata": {},
     "output_type": "execute_result"
    }
   ],
   "source": [
    "soup.find_all('div',{\"flex items-center mb-xs relative max-w-full overflow-hidden whitespace-nowrap\"})[0].find('faceplate-timeago').get('ts')"
   ]
  },
  {
   "cell_type": "code",
   "execution_count": 58,
   "id": "4712f853-8bdd-424f-9027-dc758338d7d7",
   "metadata": {},
   "outputs": [],
   "source": [
    "date=[]\n",
    "time=[]\n",
    "for i in soup.find_all(name='div',attrs={\"flex items-center mb-xs relative max-w-full overflow-hidden whitespace-nowrap\"}):\n",
    "    dt=i.find('faceplate-timeago').get('ts')\n",
    "    date.append(dt.split('T')[0])\n",
    "    time.append(dt.split('T')[1].split('.')[0])"
   ]
  },
  {
   "cell_type": "code",
   "execution_count": 61,
   "id": "1e517f22-d080-4441-bbdd-a1ac5790eb09",
   "metadata": {},
   "outputs": [
    {
     "data": {
      "text/plain": [
       "['2023-07-24',\n",
       " '2024-05-06',\n",
       " '2022-08-10',\n",
       " '2024-03-04',\n",
       " '2024-02-29',\n",
       " '2024-01-13',\n",
       " '2024-06-27',\n",
       " '2023-10-07',\n",
       " '2022-06-28',\n",
       " '2023-11-22',\n",
       " '2023-09-08',\n",
       " '2023-03-15',\n",
       " '2024-08-23',\n",
       " '2023-07-23',\n",
       " '2024-06-17',\n",
       " '2023-08-25',\n",
       " '2024-08-30',\n",
       " '2023-12-26',\n",
       " '2024-02-29',\n",
       " '2023-08-27',\n",
       " '2024-09-19',\n",
       " '2023-12-06',\n",
       " '2024-03-19',\n",
       " '2023-08-27',\n",
       " '2024-05-10']"
      ]
     },
     "execution_count": 61,
     "metadata": {},
     "output_type": "execute_result"
    }
   ],
   "source": [
    "date"
   ]
  },
  {
   "cell_type": "markdown",
   "id": "ae471abf-fb81-497a-8835-8f4e0ff365b9",
   "metadata": {},
   "source": [
    "# Create Table"
   ]
  },
  {
   "cell_type": "code",
   "execution_count": 65,
   "id": "f2f70e9d-f49a-4be4-a5fb-135d3051a4c2",
   "metadata": {},
   "outputs": [
    {
     "data": {
      "text/html": [
       "<div>\n",
       "<style scoped>\n",
       "    .dataframe tbody tr th:only-of-type {\n",
       "        vertical-align: middle;\n",
       "    }\n",
       "\n",
       "    .dataframe tbody tr th {\n",
       "        vertical-align: top;\n",
       "    }\n",
       "\n",
       "    .dataframe thead th {\n",
       "        text-align: right;\n",
       "    }\n",
       "</style>\n",
       "<table border=\"1\" class=\"dataframe\">\n",
       "  <thead>\n",
       "    <tr style=\"text-align: right;\">\n",
       "      <th></th>\n",
       "      <th>Headers</th>\n",
       "      <th>Links</th>\n",
       "      <th>Votes</th>\n",
       "      <th>Date</th>\n",
       "      <th>Time</th>\n",
       "    </tr>\n",
       "  </thead>\n",
       "  <tbody>\n",
       "    <tr>\n",
       "      <th>0</th>\n",
       "      <td>Breaking Bad tier list</td>\n",
       "      <td>https://www.reddit.com/r/breakingbad/comments/...</td>\n",
       "      <td>1255</td>\n",
       "      <td>2023-07-24</td>\n",
       "      <td>04:03:10</td>\n",
       "    </tr>\n",
       "    <tr>\n",
       "      <th>1</th>\n",
       "      <td>Why is Breaking Bad so good??</td>\n",
       "      <td>https://www.reddit.com/r/breakingbad/comments/...</td>\n",
       "      <td>331</td>\n",
       "      <td>2024-05-06</td>\n",
       "      <td>21:56:29</td>\n",
       "    </tr>\n",
       "    <tr>\n",
       "      <th>2</th>\n",
       "      <td>Breaking Bad: Girls Edition</td>\n",
       "      <td>https://www.reddit.com/r/okbuddychicanery/comm...</td>\n",
       "      <td>39628</td>\n",
       "      <td>2022-08-10</td>\n",
       "      <td>13:36:57</td>\n",
       "    </tr>\n",
       "    <tr>\n",
       "      <th>3</th>\n",
       "      <td>Am I the only one who thinks Breaking Bad is o...</td>\n",
       "      <td>https://www.reddit.com/r/TvShows/comments/1b69...</td>\n",
       "      <td>230</td>\n",
       "      <td>2024-03-04</td>\n",
       "      <td>12:02:58</td>\n",
       "    </tr>\n",
       "    <tr>\n",
       "      <th>4</th>\n",
       "      <td>Recasting Breaking Bad in 2023</td>\n",
       "      <td>https://www.reddit.com/r/okbuddychicanery/comm...</td>\n",
       "      <td>3620</td>\n",
       "      <td>2024-02-29</td>\n",
       "      <td>00:52:16</td>\n",
       "    </tr>\n",
       "    <tr>\n",
       "      <th>5</th>\n",
       "      <td>Unpopular opinion: Breaking Bad's ending is no...</td>\n",
       "      <td>https://www.reddit.com/r/breakingbad/comments/...</td>\n",
       "      <td>0</td>\n",
       "      <td>2024-01-13</td>\n",
       "      <td>04:57:55</td>\n",
       "    </tr>\n",
       "    <tr>\n",
       "      <th>6</th>\n",
       "      <td>Breaking Bad in a minute</td>\n",
       "      <td>https://www.reddit.com/r/funny/comments/1dpqsg...</td>\n",
       "      <td>12612</td>\n",
       "      <td>2024-06-27</td>\n",
       "      <td>13:04:18</td>\n",
       "    </tr>\n",
       "    <tr>\n",
       "      <th>7</th>\n",
       "      <td>What's the most unrealistic part of Breaking Bad?</td>\n",
       "      <td>https://www.reddit.com/r/breakingbad/comments/...</td>\n",
       "      <td>265</td>\n",
       "      <td>2023-10-07</td>\n",
       "      <td>00:55:41</td>\n",
       "    </tr>\n",
       "    <tr>\n",
       "      <th>8</th>\n",
       "      <td>I finally watched Breaking Bad. It was insanel...</td>\n",
       "      <td>https://www.reddit.com/r/unpopularopinion/comm...</td>\n",
       "      <td>4363</td>\n",
       "      <td>2022-06-28</td>\n",
       "      <td>19:43:31</td>\n",
       "    </tr>\n",
       "    <tr>\n",
       "      <th>9</th>\n",
       "      <td>Breaking Bad is a comfort show for me until so...</td>\n",
       "      <td>https://www.reddit.com/r/breakingbad/comments/...</td>\n",
       "      <td>368</td>\n",
       "      <td>2023-11-22</td>\n",
       "      <td>15:30:26</td>\n",
       "    </tr>\n",
       "    <tr>\n",
       "      <th>10</th>\n",
       "      <td>I’m shocked at how Breaking Bad only takes pla...</td>\n",
       "      <td>https://www.reddit.com/r/breakingbad/comments/...</td>\n",
       "      <td>801</td>\n",
       "      <td>2023-09-08</td>\n",
       "      <td>01:49:32</td>\n",
       "    </tr>\n",
       "    <tr>\n",
       "      <th>11</th>\n",
       "      <td>Was the term “Breaking Bad” invented by the sh...</td>\n",
       "      <td>https://www.reddit.com/r/breakingbad/comments/...</td>\n",
       "      <td>306</td>\n",
       "      <td>2023-03-15</td>\n",
       "      <td>15:43:18</td>\n",
       "    </tr>\n",
       "    <tr>\n",
       "      <th>12</th>\n",
       "      <td>‘Breaking Bad’ actor Dean Norris at the DNC</td>\n",
       "      <td>https://www.reddit.com/r/pics/comments/1ez5lb9...</td>\n",
       "      <td>42798</td>\n",
       "      <td>2024-08-23</td>\n",
       "      <td>06:13:37</td>\n",
       "    </tr>\n",
       "    <tr>\n",
       "      <th>13</th>\n",
       "      <td>The fundamental problem with Breaking Bad</td>\n",
       "      <td>https://www.reddit.com/r/breakingbad/comments/...</td>\n",
       "      <td>207</td>\n",
       "      <td>2023-07-23</td>\n",
       "      <td>08:50:04</td>\n",
       "    </tr>\n",
       "    <tr>\n",
       "      <th>14</th>\n",
       "      <td>This email from Anthony Hopkins to Bryan Crans...</td>\n",
       "      <td>https://www.reddit.com/r/MadeMeSmile/comments/...</td>\n",
       "      <td>70675</td>\n",
       "      <td>2024-06-17</td>\n",
       "      <td>18:18:57</td>\n",
       "    </tr>\n",
       "    <tr>\n",
       "      <th>15</th>\n",
       "      <td>How young is \"too young\" to watch Breaking Bad?</td>\n",
       "      <td>https://www.reddit.com/r/breakingbad/comments/...</td>\n",
       "      <td>788</td>\n",
       "      <td>2023-08-25</td>\n",
       "      <td>12:48:00</td>\n",
       "    </tr>\n",
       "    <tr>\n",
       "      <th>16</th>\n",
       "      <td>AITAH for considering breaking up with my fian...</td>\n",
       "      <td>https://www.reddit.com/r/AITAH/comments/1f50d1...</td>\n",
       "      <td>4107</td>\n",
       "      <td>2024-08-30</td>\n",
       "      <td>17:02:48</td>\n",
       "    </tr>\n",
       "    <tr>\n",
       "      <th>17</th>\n",
       "      <td>BetterCallSaul vs BreakingBad</td>\n",
       "      <td>https://www.reddit.com/r/betterCallSaul/commen...</td>\n",
       "      <td>184</td>\n",
       "      <td>2023-12-26</td>\n",
       "      <td>06:21:42</td>\n",
       "    </tr>\n",
       "    <tr>\n",
       "      <th>18</th>\n",
       "      <td>Breaking Bad cast reunites at the 2024 SAG Awards</td>\n",
       "      <td>https://www.reddit.com/r/pics/comments/1b31e2s...</td>\n",
       "      <td>39901</td>\n",
       "      <td>2024-02-29</td>\n",
       "      <td>14:19:06</td>\n",
       "    </tr>\n",
       "    <tr>\n",
       "      <th>19</th>\n",
       "      <td>Do you think the Breaking Bad universe is real...</td>\n",
       "      <td>https://www.reddit.com/r/breakingbad/comments/...</td>\n",
       "      <td>368</td>\n",
       "      <td>2023-08-27</td>\n",
       "      <td>16:00:40</td>\n",
       "    </tr>\n",
       "    <tr>\n",
       "      <th>20</th>\n",
       "      <td>Colin Farrell Says He’ll 'Catch Up' on 'The So...</td>\n",
       "      <td>https://www.reddit.com/r/television/comments/1...</td>\n",
       "      <td>4855</td>\n",
       "      <td>2024-09-19</td>\n",
       "      <td>03:09:02</td>\n",
       "    </tr>\n",
       "    <tr>\n",
       "      <th>21</th>\n",
       "      <td>Let me hear your alternate endings to breaking...</td>\n",
       "      <td>https://www.reddit.com/r/breakingbad/comments/...</td>\n",
       "      <td>112</td>\n",
       "      <td>2023-12-06</td>\n",
       "      <td>22:22:20</td>\n",
       "    </tr>\n",
       "    <tr>\n",
       "      <th>22</th>\n",
       "      <td>Aaron Paul on the last day of filming Breaking...</td>\n",
       "      <td>https://www.reddit.com/r/pics/comments/1bifwf6...</td>\n",
       "      <td>50672</td>\n",
       "      <td>2024-03-19</td>\n",
       "      <td>09:09:09</td>\n",
       "    </tr>\n",
       "    <tr>\n",
       "      <th>23</th>\n",
       "      <td>Why did the makers choose New Mexico for Break...</td>\n",
       "      <td>https://www.reddit.com/r/breakingbad/comments/...</td>\n",
       "      <td>360</td>\n",
       "      <td>2023-08-27</td>\n",
       "      <td>20:17:06</td>\n",
       "    </tr>\n",
       "    <tr>\n",
       "      <th>24</th>\n",
       "      <td>Last day on set of Breaking Bad (2013)</td>\n",
       "      <td>https://www.reddit.com/r/pics/comments/1con127...</td>\n",
       "      <td>25252</td>\n",
       "      <td>2024-05-10</td>\n",
       "      <td>11:14:07</td>\n",
       "    </tr>\n",
       "  </tbody>\n",
       "</table>\n",
       "</div>"
      ],
      "text/plain": [
       "                                              Headers  \\\n",
       "0                              Breaking Bad tier list   \n",
       "1                       Why is Breaking Bad so good??   \n",
       "2                         Breaking Bad: Girls Edition   \n",
       "3   Am I the only one who thinks Breaking Bad is o...   \n",
       "4                      Recasting Breaking Bad in 2023   \n",
       "5   Unpopular opinion: Breaking Bad's ending is no...   \n",
       "6                            Breaking Bad in a minute   \n",
       "7   What's the most unrealistic part of Breaking Bad?   \n",
       "8   I finally watched Breaking Bad. It was insanel...   \n",
       "9   Breaking Bad is a comfort show for me until so...   \n",
       "10  I’m shocked at how Breaking Bad only takes pla...   \n",
       "11  Was the term “Breaking Bad” invented by the sh...   \n",
       "12        ‘Breaking Bad’ actor Dean Norris at the DNC   \n",
       "13          The fundamental problem with Breaking Bad   \n",
       "14  This email from Anthony Hopkins to Bryan Crans...   \n",
       "15    How young is \"too young\" to watch Breaking Bad?   \n",
       "16  AITAH for considering breaking up with my fian...   \n",
       "17                      BetterCallSaul vs BreakingBad   \n",
       "18  Breaking Bad cast reunites at the 2024 SAG Awards   \n",
       "19  Do you think the Breaking Bad universe is real...   \n",
       "20  Colin Farrell Says He’ll 'Catch Up' on 'The So...   \n",
       "21  Let me hear your alternate endings to breaking...   \n",
       "22  Aaron Paul on the last day of filming Breaking...   \n",
       "23  Why did the makers choose New Mexico for Break...   \n",
       "24             Last day on set of Breaking Bad (2013)   \n",
       "\n",
       "                                                Links  Votes        Date  \\\n",
       "0   https://www.reddit.com/r/breakingbad/comments/...   1255  2023-07-24   \n",
       "1   https://www.reddit.com/r/breakingbad/comments/...    331  2024-05-06   \n",
       "2   https://www.reddit.com/r/okbuddychicanery/comm...  39628  2022-08-10   \n",
       "3   https://www.reddit.com/r/TvShows/comments/1b69...    230  2024-03-04   \n",
       "4   https://www.reddit.com/r/okbuddychicanery/comm...   3620  2024-02-29   \n",
       "5   https://www.reddit.com/r/breakingbad/comments/...      0  2024-01-13   \n",
       "6   https://www.reddit.com/r/funny/comments/1dpqsg...  12612  2024-06-27   \n",
       "7   https://www.reddit.com/r/breakingbad/comments/...    265  2023-10-07   \n",
       "8   https://www.reddit.com/r/unpopularopinion/comm...   4363  2022-06-28   \n",
       "9   https://www.reddit.com/r/breakingbad/comments/...    368  2023-11-22   \n",
       "10  https://www.reddit.com/r/breakingbad/comments/...    801  2023-09-08   \n",
       "11  https://www.reddit.com/r/breakingbad/comments/...    306  2023-03-15   \n",
       "12  https://www.reddit.com/r/pics/comments/1ez5lb9...  42798  2024-08-23   \n",
       "13  https://www.reddit.com/r/breakingbad/comments/...    207  2023-07-23   \n",
       "14  https://www.reddit.com/r/MadeMeSmile/comments/...  70675  2024-06-17   \n",
       "15  https://www.reddit.com/r/breakingbad/comments/...    788  2023-08-25   \n",
       "16  https://www.reddit.com/r/AITAH/comments/1f50d1...   4107  2024-08-30   \n",
       "17  https://www.reddit.com/r/betterCallSaul/commen...    184  2023-12-26   \n",
       "18  https://www.reddit.com/r/pics/comments/1b31e2s...  39901  2024-02-29   \n",
       "19  https://www.reddit.com/r/breakingbad/comments/...    368  2023-08-27   \n",
       "20  https://www.reddit.com/r/television/comments/1...   4855  2024-09-19   \n",
       "21  https://www.reddit.com/r/breakingbad/comments/...    112  2023-12-06   \n",
       "22  https://www.reddit.com/r/pics/comments/1bifwf6...  50672  2024-03-19   \n",
       "23  https://www.reddit.com/r/breakingbad/comments/...    360  2023-08-27   \n",
       "24  https://www.reddit.com/r/pics/comments/1con127...  25252  2024-05-10   \n",
       "\n",
       "        Time  \n",
       "0   04:03:10  \n",
       "1   21:56:29  \n",
       "2   13:36:57  \n",
       "3   12:02:58  \n",
       "4   00:52:16  \n",
       "5   04:57:55  \n",
       "6   13:04:18  \n",
       "7   00:55:41  \n",
       "8   19:43:31  \n",
       "9   15:30:26  \n",
       "10  01:49:32  \n",
       "11  15:43:18  \n",
       "12  06:13:37  \n",
       "13  08:50:04  \n",
       "14  18:18:57  \n",
       "15  12:48:00  \n",
       "16  17:02:48  \n",
       "17  06:21:42  \n",
       "18  14:19:06  \n",
       "19  16:00:40  \n",
       "20  03:09:02  \n",
       "21  22:22:20  \n",
       "22  09:09:09  \n",
       "23  20:17:06  \n",
       "24  11:14:07  "
      ]
     },
     "execution_count": 65,
     "metadata": {},
     "output_type": "execute_result"
    }
   ],
   "source": [
    "df=pd.DataFrame({'Headers':headers,'Links':links,'Votes':votes,'Date':date,'Time':time})\n",
    "df"
   ]
  }
 ],
 "metadata": {
  "kernelspec": {
   "display_name": "Python 3 (ipykernel)",
   "language": "python",
   "name": "python3"
  },
  "language_info": {
   "codemirror_mode": {
    "name": "ipython",
    "version": 3
   },
   "file_extension": ".py",
   "mimetype": "text/x-python",
   "name": "python",
   "nbconvert_exporter": "python",
   "pygments_lexer": "ipython3",
   "version": "3.11.5"
  }
 },
 "nbformat": 4,
 "nbformat_minor": 5
}
